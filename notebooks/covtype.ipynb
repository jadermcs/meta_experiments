{
 "cells": [
  {
   "cell_type": "code",
   "execution_count": 1,
   "metadata": {
    "slideshow": {
     "slide_type": "notes"
    }
   },
   "outputs": [],
   "source": [
    "from joblib import load\n",
    "import numpy as np\n",
    "import pandas as pd\n",
    "import matplotlib.pyplot as plt\n",
    "from pylab import ma, cm\n",
    "import seaborn as sns\n",
    "import statsmodels.api as sm\n",
    "import plot_config\n",
    "from sklearn.metrics import cohen_kappa_score, accuracy_score\n",
    "from imblearn.metrics import geometric_mean_score\n",
    "plot_config.set_config()"
   ]
  },
  {
   "cell_type": "code",
   "execution_count": 2,
   "metadata": {},
   "outputs": [],
   "source": [
    "experiment = 'covtype'\n",
    "name_caps = 'CoverType'"
   ]
  },
  {
   "cell_type": "code",
   "execution_count": 3,
   "metadata": {},
   "outputs": [],
   "source": [
    "off_scores = load('../data/'+experiment+'/off_scores.joblib')\n",
    "off_preds = load('../data/'+experiment+'/off_preds.joblib')\n",
    "off_targets = load('../data/'+experiment+'/off_targets.joblib')"
   ]
  },
  {
   "cell_type": "code",
   "execution_count": 36,
   "metadata": {},
   "outputs": [],
   "source": [
    "filtered = [True if abs(x-y)>.2 else False for (x,y) in off_scores[300:]]"
   ]
  },
  {
   "cell_type": "code",
   "execution_count": 37,
   "metadata": {},
   "outputs": [
    {
     "data": {
      "text/plain": [
       "0.18181818181818188"
      ]
     },
     "execution_count": 37,
     "metadata": {},
     "output_type": "execute_result"
    }
   ],
   "source": [
    "cohen_kappa_score(np.concatenate(off_preds)[filtered],np.concatenate(off_targets)[filtered])"
   ]
  },
  {
   "cell_type": "code",
   "execution_count": 5,
   "metadata": {},
   "outputs": [
    {
     "ename": "IndexError",
     "evalue": "boolean index did not match indexed array along dimension 0; dimension is 10 but corresponding boolean dimension is 100",
     "output_type": "error",
     "traceback": [
      "\u001b[0;31m---------------------------------------------------------------------------\u001b[0m",
      "\u001b[0;31mIndexError\u001b[0m                                Traceback (most recent call last)",
      "\u001b[0;32m<ipython-input-5-45761e5917e8>\u001b[0m in \u001b[0;36m<module>\u001b[0;34m\u001b[0m\n\u001b[1;32m      2\u001b[0m \u001b[0mftargets\u001b[0m \u001b[0;34m=\u001b[0m \u001b[0mnp\u001b[0m\u001b[0;34m.\u001b[0m\u001b[0marray\u001b[0m\u001b[0;34m(\u001b[0m\u001b[0;34m[\u001b[0m\u001b[0mx\u001b[0m\u001b[0;34m[\u001b[0m\u001b[0;36m0\u001b[0m\u001b[0;34m]\u001b[0m \u001b[0;32mfor\u001b[0m \u001b[0mx\u001b[0m \u001b[0;32min\u001b[0m \u001b[0moff_targets\u001b[0m\u001b[0;34m]\u001b[0m\u001b[0;34m)\u001b[0m\u001b[0;34m\u001b[0m\u001b[0;34m\u001b[0m\u001b[0m\n\u001b[1;32m      3\u001b[0m \u001b[0mfiltered\u001b[0m \u001b[0;34m=\u001b[0m \u001b[0;34m[\u001b[0m\u001b[0;32mTrue\u001b[0m \u001b[0;32mif\u001b[0m \u001b[0mabs\u001b[0m\u001b[0;34m(\u001b[0m\u001b[0mx\u001b[0m\u001b[0;34m-\u001b[0m\u001b[0my\u001b[0m\u001b[0;34m)\u001b[0m\u001b[0;34m>\u001b[0m\u001b[0;36m.2\u001b[0m \u001b[0;32melse\u001b[0m \u001b[0;32mFalse\u001b[0m \u001b[0;32mfor\u001b[0m \u001b[0;34m(\u001b[0m\u001b[0mx\u001b[0m\u001b[0;34m,\u001b[0m\u001b[0my\u001b[0m\u001b[0;34m)\u001b[0m \u001b[0;32min\u001b[0m \u001b[0moff_scores\u001b[0m\u001b[0;34m[\u001b[0m\u001b[0;36m300\u001b[0m\u001b[0;34m:\u001b[0m\u001b[0;34m]\u001b[0m\u001b[0;34m]\u001b[0m\u001b[0;34m\u001b[0m\u001b[0;34m\u001b[0m\u001b[0m\n\u001b[0;32m----> 4\u001b[0;31m \u001b[0mcohen_kappa_score\u001b[0m\u001b[0;34m(\u001b[0m\u001b[0mfpreds\u001b[0m\u001b[0;34m[\u001b[0m\u001b[0mfiltered\u001b[0m\u001b[0;34m]\u001b[0m\u001b[0;34m,\u001b[0m \u001b[0mftargets\u001b[0m\u001b[0;34m[\u001b[0m\u001b[0mfiltered\u001b[0m\u001b[0;34m]\u001b[0m\u001b[0;34m)\u001b[0m\u001b[0;34m\u001b[0m\u001b[0;34m\u001b[0m\u001b[0m\n\u001b[0m",
      "\u001b[0;31mIndexError\u001b[0m: boolean index did not match indexed array along dimension 0; dimension is 10 but corresponding boolean dimension is 100"
     ]
    }
   ],
   "source": [
    "fpreds = np.array([x[0] for x in off_preds])\n",
    "ftargets = np.array([x[0] for x in off_targets])\n",
    "filtered = [True if abs(x-y)>.2 else False for (x,y) in off_scores[300:]]\n",
    "cohen_kappa_score(fpreds[filtered], ftargets[filtered])"
   ]
  },
  {
   "cell_type": "code",
   "execution_count": 6,
   "metadata": {},
   "outputs": [
    {
     "data": {
      "text/plain": [
       "[array([0, 1, 0, 1, 1, 1, 1, 1, 1, 1]),\n",
       " array([0, 0, 0, 0, 0, 0, 0, 0, 0, 0]),\n",
       " array([0, 0, 0, 0, 0, 0, 0, 0, 0, 0]),\n",
       " array([0, 0, 0, 0, 0, 0, 0, 0, 0, 0]),\n",
       " array([0, 0, 0, 0, 0, 0, 0, 0, 0, 0]),\n",
       " array([0, 0, 0, 0, 0, 0, 0, 0, 0, 0]),\n",
       " array([0, 0, 0, 0, 0, 0, 0, 0, 0, 0]),\n",
       " array([0, 0, 0, 0, 0, 0, 1, 0, 1, 0]),\n",
       " array([0, 0, 0, 0, 0, 0, 0, 0, 0, 0]),\n",
       " array([0, 0, 0, 0, 0, 0, 0, 0, 0, 0])]"
      ]
     },
     "execution_count": 6,
     "metadata": {},
     "output_type": "execute_result"
    }
   ],
   "source": [
    "off_preds"
   ]
  },
  {
   "cell_type": "code",
   "execution_count": 8,
   "metadata": {},
   "outputs": [
    {
     "name": "stderr",
     "output_type": "stream",
     "text": [
      "/home/jader/Projects/meta_experiments/venv/lib/python3.6/site-packages/scipy/stats/stats.py:411: RuntimeWarning: Mean of empty slice.\n",
      "  return np.exp(log_a.mean(axis=axis))\n",
      "/home/jader/Projects/meta_experiments/venv/lib/python3.6/site-packages/numpy/lib/function_base.py:380: RuntimeWarning: Mean of empty slice.\n",
      "  avg = a.mean(axis)\n",
      "/home/jader/Projects/meta_experiments/venv/lib/python3.6/site-packages/numpy/core/_methods.py:170: RuntimeWarning: invalid value encountered in double_scalars\n",
      "  ret = ret.dtype.type(ret / rcount)\n",
      "/home/jader/Projects/meta_experiments/venv/lib/python3.6/site-packages/sklearn/metrics/_classification.py:1221: UndefinedMetricWarning: Recall is ill-defined and being set to 0.0 in labels with no true samples. Use `zero_division` parameter to control this behavior.\n",
      "  _warn_prf(average, modifier, msg_start, len(result))\n"
     ]
    },
    {
     "ename": "IndexError",
     "evalue": "list index out of range",
     "output_type": "error",
     "traceback": [
      "\u001b[0;31m---------------------------------------------------------------------------\u001b[0m",
      "\u001b[0;31mIndexError\u001b[0m                                Traceback (most recent call last)",
      "\u001b[0;32m<ipython-input-8-a63f3ffdcbd7>\u001b[0m in \u001b[0;36m<module>\u001b[0;34m\u001b[0m\n\u001b[1;32m      5\u001b[0m     \u001b[0mscores\u001b[0m \u001b[0;34m=\u001b[0m \u001b[0moff_scores\u001b[0m\u001b[0;34m[\u001b[0m\u001b[0;36m300\u001b[0m\u001b[0;34m+\u001b[0m\u001b[0mi\u001b[0m\u001b[0;34m:\u001b[0m\u001b[0;36m300\u001b[0m\u001b[0;34m+\u001b[0m\u001b[0mi\u001b[0m\u001b[0;34m+\u001b[0m\u001b[0;36m1\u001b[0m\u001b[0;34m]\u001b[0m\u001b[0;34m\u001b[0m\u001b[0;34m\u001b[0m\u001b[0m\n\u001b[1;32m      6\u001b[0m     \u001b[0mapp\u001b[0m \u001b[0;34m=\u001b[0m \u001b[0;34m[\u001b[0m\u001b[0mi\u001b[0m \u001b[0;32mfor\u001b[0m \u001b[0mi\u001b[0m\u001b[0;34m,\u001b[0m\u001b[0;34m(\u001b[0m\u001b[0mx\u001b[0m\u001b[0;34m,\u001b[0m\u001b[0my\u001b[0m\u001b[0;34m)\u001b[0m \u001b[0;32min\u001b[0m \u001b[0menumerate\u001b[0m\u001b[0;34m(\u001b[0m\u001b[0mscores\u001b[0m\u001b[0;34m)\u001b[0m \u001b[0;32mif\u001b[0m \u001b[0mabs\u001b[0m\u001b[0;34m(\u001b[0m\u001b[0mx\u001b[0m\u001b[0;34m-\u001b[0m\u001b[0my\u001b[0m\u001b[0;34m)\u001b[0m\u001b[0;34m>\u001b[0m\u001b[0;36m0.0\u001b[0m\u001b[0;34m]\u001b[0m\u001b[0;34m\u001b[0m\u001b[0;34m\u001b[0m\u001b[0m\n\u001b[0;32m----> 7\u001b[0;31m     \u001b[0mpreds\u001b[0m \u001b[0;34m=\u001b[0m \u001b[0moff_preds\u001b[0m\u001b[0;34m[\u001b[0m\u001b[0mi\u001b[0m\u001b[0;34m]\u001b[0m\u001b[0;34m[\u001b[0m\u001b[0mapp\u001b[0m\u001b[0;34m]\u001b[0m\u001b[0;34m\u001b[0m\u001b[0;34m\u001b[0m\u001b[0m\n\u001b[0m\u001b[1;32m      8\u001b[0m     \u001b[0mtargets\u001b[0m \u001b[0;34m=\u001b[0m \u001b[0moff_targets\u001b[0m\u001b[0;34m[\u001b[0m\u001b[0mi\u001b[0m\u001b[0;34m]\u001b[0m\u001b[0;34m[\u001b[0m\u001b[0mapp\u001b[0m\u001b[0;34m]\u001b[0m\u001b[0;34m\u001b[0m\u001b[0;34m\u001b[0m\u001b[0m\n\u001b[1;32m      9\u001b[0m \u001b[0;34m\u001b[0m\u001b[0m\n",
      "\u001b[0;31mIndexError\u001b[0m: list index out of range"
     ]
    }
   ],
   "source": [
    "kappas = []\n",
    "gmeans = []\n",
    "accurs = []\n",
    "for i in range(100):\n",
    "    scores = off_scores[300+i:300+i+1]\n",
    "    app = [i for i,(x,y) in enumerate(scores) if abs(x-y)>0.0]\n",
    "    preds = off_preds[i][app]\n",
    "    targets = off_targets[i][app]\n",
    "    \n",
    "    if not np.isnan(geometric_mean_score(targets, preds)):\n",
    "        gmeans.append(geometric_mean_score(targets, preds))\n",
    "        \n",
    "    if not np.isnan(accuracy_score(targets, preds)):\n",
    "        accurs.append(accuracy_score(targets, preds))\n",
    "        \n",
    "    if np.array_equal(preds, targets):\n",
    "        kappas.append(1.0)\n",
    "    else:\n",
    "        kappas.append(cohen_kappa_score(targets, preds))\n",
    "print(np.mean(kappas), \"+-\", np.std(kappas))\n",
    "print(np.mean(gmeans), \"+-\", np.std(gmeans))\n",
    "print(np.mean(accurs), \"+-\", np.std(accurs))"
   ]
  },
  {
   "cell_type": "code",
   "execution_count": null,
   "metadata": {
    "scrolled": true
   },
   "outputs": [],
   "source": [
    "rf_score = load('../data/'+experiment+'/score_rf.joblib')[:120]\n",
    "svm_score = load('../data/'+experiment+'/score_svm.joblib')[:120]\n",
    "score_recommended = np.array(load('../data/'+experiment+'_ninc/score_reco.joblib'))[:120]\n",
    "fig = plt.gcf()\n",
    "fig.set_size_inches(7.14, 2)\n",
    "plt.plot(rf_score, '^-', label='RF')\n",
    "plt.plot(svm_score, '^-', label='SVM*')\n",
    "plt.plot(score_recommended, 'k^-', label='Recommended')\n",
    "plt.xlabel('Time')\n",
    "plt.ylabel('Score')\n",
    "plt.legend(loc='upper center', bbox_to_anchor=(0.5, 1.35), ncol=3, fancybox=True)\n",
    "plt.savefig(experiment+'_tscores.pdf', bbox_inches='tight')"
   ]
  },
  {
   "cell_type": "code",
   "execution_count": null,
   "metadata": {
    "slideshow": {
     "slide_type": "notes"
    }
   },
   "outputs": [],
   "source": [
    "t_importance = load('../data/'+experiment+'/importance.joblib')\n",
    "t_fname = load('../data/'+experiment+'/fnames.joblib')[:-1]\n",
    "dic = sorted([(k,v) for k,v in zip(t_importance, t_fname)])[-15:]\n",
    "importance = [k for k,v in dic]\n",
    "fname = [v for k,v in dic]\n",
    "pos = np.arange(len(importance))"
   ]
  },
  {
   "cell_type": "code",
   "execution_count": null,
   "metadata": {
    "scrolled": false,
    "slideshow": {
     "slide_type": "slide"
    }
   },
   "outputs": [],
   "source": [
    "fig, ax1 = plt.subplots()\n",
    "fig.subplots_adjust(left=0.115, right=0.88)\n",
    "ax1.set_title('Feature Importance')\n",
    "ax1.xaxis.grid(True, linestyle='--', which='major',\n",
    "                   color='grey', alpha=.25)\n",
    "rects = plt.barh(pos, importance,\n",
    "         align='center',\n",
    "         tick_label=[x.replace('_','-') for x in fname])\n",
    "fig = plt.gcf()\n",
    "fig.set_size_inches(7.14, 4)\n",
    "plt.savefig(experiment+'_fi.pdf', bbox_inches='tight')"
   ]
  },
  {
   "cell_type": "code",
   "execution_count": null,
   "metadata": {},
   "outputs": [],
   "source": [
    "tfi = load('../data/'+experiment+'_ninc/tfi.joblib')\n",
    "topfname = fname[-3:]\n",
    "tfi = pd.DataFrame(tfi, columns=t_fname)[topfname]\n",
    "tfi.rename(columns={x:x.replace('_','-') for x in topfname}, inplace=True)\n",
    "ax = tfi.plot(style='^-')\n",
    "ax.set_ylabel('Feature Importance')\n",
    "ax.set_xlabel('Time')\n",
    "ax.legend(loc='upper center', bbox_to_anchor=(0.5, 1.3), ncol=3, fancybox=True)\n",
    "fig = plt.gcf()\n",
    "fig.set_size_inches(7.14, 2.5)\n",
    "plt.savefig(experiment+'_timefi.pdf', bbox_inches='tight')"
   ]
  },
  {
   "cell_type": "code",
   "execution_count": null,
   "metadata": {
    "slideshow": {
     "slide_type": "-"
    }
   },
   "outputs": [],
   "source": [
    "arange = 1000\n",
    "difference = np.array(load('../data/'+experiment+'/difference.joblib'))\n",
    "difference_ninc = np.array(load('../data/'+experiment+'_ninc/difference.joblib'))\n",
    "cum = np.cumsum(difference)[:arange]\n",
    "cum_ninc = np.cumsum(difference_ninc)[:arange]\n",
    "x = np.arange(arange)"
   ]
  },
  {
   "cell_type": "code",
   "execution_count": null,
   "metadata": {
    "slideshow": {
     "slide_type": "slide"
    }
   },
   "outputs": [],
   "source": [
    "fig, (ax1, ax2) = plt.subplots(2, sharex=True, sharey=True, gridspec_kw={'hspace': 0})\n",
    "\n",
    "ax1.fill_between(x, cum_ninc, 0, color='C1', label='Non-Incremental')\n",
    "ax1.scatter(x, difference_ninc[:arange], s=10, c='black')\n",
    "ax1.set_title(name_caps)\n",
    "ax1.axhline(0)\n",
    "ax1.legend(loc='upper left')\n",
    "ax1.set_ylabel('Score Gain')\n",
    "\n",
    "ax2.fill_between(x, cum, 0, color='C0', label='Incremental')\n",
    "ax2.scatter(x, difference[:arange], s=10, c='black')\n",
    "ax2.axhline(0)\n",
    "ax2.legend(loc='upper left')\n",
    "ax2.set_ylabel('Score Gain')\n",
    "ax2.set_xlabel('Time')\n",
    "\n",
    "fig = plt.gcf()\n",
    "fig.set_size_inches(7.14, 3)\n",
    "plt.savefig(experiment+'_cumsum.pdf', bbox_inches='tight')"
   ]
  },
  {
   "cell_type": "code",
   "execution_count": null,
   "metadata": {
    "slideshow": {
     "slide_type": "-"
    }
   },
   "outputs": [],
   "source": [
    "print(cum[-10:])"
   ]
  },
  {
   "cell_type": "code",
   "execution_count": null,
   "metadata": {
    "slideshow": {
     "slide_type": "slide"
    }
   },
   "outputs": [],
   "source": [
    "with open('../'+experiment.replace('_','-')+'.output') as fin:\n",
    "    print(fin.read())"
   ]
  },
  {
   "cell_type": "code",
   "execution_count": null,
   "metadata": {
    "slideshow": {
     "slide_type": "-"
    }
   },
   "outputs": [],
   "source": [
    "metadf = load('../data/'+experiment+'/metadf.joblib')\n",
    "best = np.array(load('../data/'+experiment+'/best.joblib'))\n",
    "score_recommended = np.array(load('../data/'+experiment+'/score_reco.joblib'))\n",
    "score_default = np.array(load('../data/'+experiment+'/score_def.joblib'))\n",
    "\n",
    "\n",
    "score_recommended_ninc = np.array(load('../data/'+experiment+'_ninc/score_reco.joblib'))\n",
    "score_default_ninc = np.array(load('../data/'+experiment+'_ninc/score_def.joblib'))"
   ]
  },
  {
   "cell_type": "code",
   "execution_count": null,
   "metadata": {
    "slideshow": {
     "slide_type": "slide"
    }
   },
   "outputs": [],
   "source": [
    "fig, (ax1, ax2) = plt.subplots(ncols=2, figsize=(12, 4))\n",
    "fig.subplots_adjust(bottom=0.25)\n",
    "\n",
    "heatmap, xedges, yedges = np.histogram2d(score_default_ninc, score_recommended_ninc, bins=11)\n",
    "mask = np.diag(np.ones(11))\n",
    "masked_data = ma.masked_array(heatmap.T, mask)\n",
    "cm.Spectral.set_bad(color='white', alpha=None)\n",
    "im1 = ax1.pcolormesh(masked_data, cmap=cm.Spectral)\n",
    "ax1.set_ylabel('Recommended score')\n",
    "ax1.set_title('Non-Incremental')\n",
    "ax1.set_xlabel('Default score')\n",
    "ticks = [\"{:.1f}\".format(x) for x in np.linspace(0,1,11)]\n",
    "ticksl = [\"{:.1f}\".format(x) if int(x*10)%2==0 else \"\" for x in np.linspace(0,1,11)]\n",
    "ax1.set_xticks(np.arange(len(ticks))+.5, minor=False)\n",
    "ax1.set_yticks(np.arange(len(ticks))+.5, minor=False)\n",
    "ax1.set_xticklabels(ticksl, rotation=90, fontdict={'fontsize':12})\n",
    "ax1.set_yticklabels(ticksl, fontdict={'fontsize':12})\n",
    "ax1.figure.colorbar(im1, ax=ax1)\n",
    "\n",
    "\n",
    "heatmap, xedges, yedges = np.histogram2d(score_default, score_recommended, bins=11)\n",
    "mask = np.diag(np.ones(11))\n",
    "masked_data = ma.masked_array(heatmap.T, mask)\n",
    "cm.Spectral.set_bad(color='white', alpha=None)\n",
    "im2 = ax2.pcolormesh(masked_data, cmap=cm.Spectral)\n",
    "ax2.set_title('Incremental')\n",
    "ax2.set_xlabel('Default score')\n",
    "ticks = [\"{:.1f}\".format(x) for x in np.linspace(0,1,11)]\n",
    "ticksl = [\"{:.1f}\".format(x) if int(x*10)%2==0 else \"\" for x in np.linspace(0,1,11)]\n",
    "ax2.set_xticks(np.arange(len(ticks))+.5, minor=False)\n",
    "ax2.set_yticks(np.arange(len(ticks))+.5, minor=False)\n",
    "ax2.set_xticklabels(ticksl, rotation=90, fontdict={'fontsize':12})\n",
    "ax2.set_yticklabels(ticksl, fontdict={'fontsize':12})\n",
    "ax2.figure.colorbar(im2, ax=ax2)\n",
    "\n",
    "fig = plt.gcf()\n",
    "fig.set_size_inches(7.14, 3)\n",
    "plt.savefig(experiment+'_score.pdf')"
   ]
  },
  {
   "cell_type": "code",
   "execution_count": null,
   "metadata": {},
   "outputs": [],
   "source": []
  }
 ],
 "metadata": {
  "kernelspec": {
   "display_name": "Python 3",
   "language": "python",
   "name": "python3"
  },
  "language_info": {
   "codemirror_mode": {
    "name": "ipython",
    "version": 3
   },
   "file_extension": ".py",
   "mimetype": "text/x-python",
   "name": "python",
   "nbconvert_exporter": "python",
   "pygments_lexer": "ipython3",
   "version": "3.6.9"
  }
 },
 "nbformat": 4,
 "nbformat_minor": 2
}
