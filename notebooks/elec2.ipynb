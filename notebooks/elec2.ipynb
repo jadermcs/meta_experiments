{
 "cells": [
  {
   "cell_type": "code",
   "execution_count": 1,
   "metadata": {},
   "outputs": [],
   "source": [
    "from joblib import load\n",
    "import numpy as np\n",
    "import matplotlib.pyplot as plt"
   ]
  },
  {
   "cell_type": "code",
   "execution_count": 3,
   "metadata": {},
   "outputs": [],
   "source": [
    "importance = load('../data/elec2/importance.joblib')"
   ]
  },
  {
   "cell_type": "code",
   "execution_count": 4,
   "metadata": {},
   "outputs": [],
   "source": [
    "arange = 150\n",
    "difference = load('../data/elec2/difference.joblib')[:arange]\n",
    "cum = np.cumsum(difference)[:arange]\n",
    "x = np.arange(arange)"
   ]
  },
  {
   "cell_type": "code",
   "execution_count": 5,
   "metadata": {},
   "outputs": [
    {
     "data": {
      "text/plain": [
       "<matplotlib.lines.Line2D at 0x7f8797105f28>"
      ]
     },
     "execution_count": 5,
     "metadata": {},
     "output_type": "execute_result"
    },
    {
     "data": {
      "image/png": "[encoded data removed]",
      "text/plain": [
       "<Figure size 1296x432 with 1 Axes>"
      ]
     },
     "metadata": {
      "needs_background": "light"
     },
     "output_type": "display_data"
    }
   ],
   "source": [
    "plt.figure(figsize=(18, 6))\n",
    "plt.fill_between(x, cum, 0)\n",
    "plt.scatter(x, difference, s=10, c='black')\n",
    "plt.axhline(0)"
   ]
  },
  {
   "cell_type": "code",
   "execution_count": 6,
   "metadata": {},
   "outputs": [
    {
     "name": "stdout",
     "output_type": "stream",
     "text": [
      "[6.3 6.3 6.3 6.3 6.3 6.3 6.7 6.8 6.8 6.8]\n"
     ]
    }
   ],
   "source": [
    "print(cum[-10:])"
   ]
  },
  {
   "cell_type": "code",
   "execution_count": 7,
   "metadata": {},
   "outputs": [
    {
     "name": "stdout",
     "output_type": "stream",
     "text": [
      "[FINETUNING BASE MODELS]\n",
      "[GENERATE METAFEATURE]\n",
      "Frequency statistics in metabase:\n",
      "\tSVC                      0.530\n",
      "\tRandomForestClassifier   0.400\n",
      "\tGaussianNB               0.070\n",
      "[OFFLINE LEARNING]\n",
      "Kappa:    0.029\n",
      "GMean:    0.000\n",
      "Accuracy: 0.493\n",
      "[[105  53   1]\n",
      " [ 74  43   3]\n",
      " [ 12   9   0]]\n",
      "              precision    recall  f1-score   support\n",
      "\n",
      "           0       0.55      0.66      0.60       159\n",
      "           1       0.41      0.36      0.38       120\n",
      "           2       0.00      0.00      0.00        21\n",
      "\n",
      "    accuracy                           0.49       300\n",
      "   macro avg       0.32      0.34      0.33       300\n",
      "weighted avg       0.46      0.49      0.47       300\n",
      "\n",
      "                   pre       rec       spe        f1       geo       iba       sup\n",
      "\n",
      "          0       0.55      0.66      0.39      0.60      0.51      0.26       159\n",
      "          1       0.41      0.36      0.66      0.38      0.48      0.23       120\n",
      "          2       0.00      0.00      0.99      0.00      0.00      0.00        21\n",
      "\n",
      "avg / total       0.46      0.49      0.54      0.47      0.46      0.23       300\n",
      "\n",
      "[ONLINE LEARNING]\n",
      "Kappa:  0.011437653014090943\n",
      "GMean:  0.0\n",
      "Accuracy:  0.4991668650321352\n",
      "              precision    recall  f1-score   support\n",
      "\n",
      "           0       0.51      0.90      0.65      2119\n",
      "           1       0.43      0.11      0.17      1670\n",
      "           2       0.00      0.00      0.00       412\n",
      "\n",
      "    accuracy                           0.50      4201\n",
      "   macro avg       0.31      0.34      0.27      4201\n",
      "weighted avg       0.43      0.50      0.40      4201\n",
      "\n",
      "                   pre       rec       spe        f1       geo       iba       sup\n",
      "\n",
      "          0       0.51      0.90      0.11      0.65      0.31      0.10      2119\n",
      "          1       0.43      0.11      0.90      0.17      0.31      0.09      1670\n",
      "          2       0.00      0.00      1.00      0.00      0.00      0.00       412\n",
      "\n",
      "avg / total       0.43      0.50      0.51      0.40      0.28      0.09      4201\n",
      "\n",
      "\n"
     ]
    }
   ],
   "source": [
    "with open('../elec2.output') as fin:\n",
    "    print(fin.read())"
   ]
  },
  {
   "cell_type": "code",
   "execution_count": null,
   "metadata": {},
   "outputs": [],
   "source": []
  }
 ],
 "metadata": {
  "kernelspec": {
   "display_name": "Python 3",
   "language": "python",
   "name": "python3"
  },
  "language_info": {
   "codemirror_mode": {
    "name": "ipython",
    "version": 3
   },
   "file_extension": ".py",
   "mimetype": "text/x-python",
   "name": "python",
   "nbconvert_exporter": "python",
   "pygments_lexer": "ipython3",
   "version": "3.6.8"
  }
 },
 "nbformat": 4,
 "nbformat_minor": 2
}
