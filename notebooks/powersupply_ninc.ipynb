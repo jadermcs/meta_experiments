{
 "cells": [
  {
   "cell_type": "code",
   "execution_count": 6,
   "metadata": {
    "slideshow": {
     "slide_type": "notes"
    }
   },
   "outputs": [],
   "source": [
    "from joblib import load\n",
    "import numpy as np\n",
    "import pandas as pd\n",
    "import matplotlib.pyplot as plt\n",
    "import seaborn as sns\n",
    "import statsmodels.api as sm\n",
    "import plot_config\n",
    "plot_config.set_config()"
   ]
  },
  {
   "cell_type": "code",
   "execution_count": 7,
   "metadata": {
    "slideshow": {
     "slide_type": "notes"
    }
   },
   "outputs": [],
   "source": [
    "experiment = 'powersupply_ninc'\n",
    "t_importance = load('../data/'+experiment+'/importance.joblib')\n",
    "t_fname = load('../data/'+experiment+'/fnames.joblib')[:-1]\n",
    "dic = sorted([(k,v) for k,v in zip(t_importance, t_fname)])[-15:]\n",
    "importance = [k for k,v in dic]\n",
    "fname = [v for k,v in dic]\n",
    "pos = np.arange(len(importance))"
   ]
  },
  {
   "cell_type": "code",
   "execution_count": 8,
   "metadata": {
    "slideshow": {
     "slide_type": "slide"
    }
   },
   "outputs": [
    {
     "data": {
      "image/png": "[encoded data removed]",
      "text/plain": [
       "<Figure size 720x432 with 1 Axes>"
      ]
     },
     "metadata": {
      "needs_background": "light"
     },
     "output_type": "display_data"
    }
   ],
   "source": [
    "fig, ax1 = plt.subplots(figsize=(10,6))\n",
    "fig.subplots_adjust(left=0.115, right=0.88)\n",
    "ax1.set_title('Feature Importance')\n",
    "ax1.xaxis.grid(True, linestyle='--', which='major',\n",
    "                   color='grey', alpha=.25)\n",
    "rects = plt.barh(pos, importance,\n",
    "         align='center',\n",
    "         tick_label=[x.replace('_','-') for x in fname])\n",
    "plt.savefig(experiment+'_fi.pdf', bbox_inches='tight')"
   ]
  },
  {
   "cell_type": "code",
   "execution_count": 9,
   "metadata": {
    "slideshow": {
     "slide_type": "-"
    }
   },
   "outputs": [],
   "source": [
    "arange = 1000\n",
    "difference = np.array(load('../data/'+experiment+'/difference.joblib'))\n",
    "cum = np.cumsum(difference)[:arange]\n",
    "x = np.arange(arange)"
   ]
  },
  {
   "cell_type": "code",
   "execution_count": 10,
   "metadata": {
    "slideshow": {
     "slide_type": "slide"
    }
   },
   "outputs": [
    {
     "data": {
      "image/png": "[encoded data removed]",
      "text/plain": [
       "<Figure size 514.08x180 with 1 Axes>"
      ]
     },
     "metadata": {
      "needs_background": "light"
     },
     "output_type": "display_data"
    }
   ],
   "source": [
    "fig = plt.gcf()\n",
    "fig.set_size_inches(7.14, 2.5)\n",
    "plt.fill_between(x, cum, 0)\n",
    "plt.scatter(x, difference[:arange], s=10, c='black')\n",
    "plt.axhline(0)\n",
    "plt.xlabel('Time')\n",
    "plt.ylabel('Score gain')\n",
    "plt.savefig(experiment+'_cumsum.pdf', bbox_inches='tight')"
   ]
  },
  {
   "cell_type": "code",
   "execution_count": 11,
   "metadata": {
    "slideshow": {
     "slide_type": "-"
    }
   },
   "outputs": [
    {
     "name": "stdout",
     "output_type": "stream",
     "text": [
      "[36.1 36.1 36.1 36.1 36.1 36.1 36.1 36.1 36.1 36.1]\n"
     ]
    }
   ],
   "source": [
    "print(cum[-10:])"
   ]
  },
  {
   "cell_type": "code",
   "execution_count": 12,
   "metadata": {
    "slideshow": {
     "slide_type": "slide"
    }
   },
   "outputs": [
    {
     "name": "stdout",
     "output_type": "stream",
     "text": [
      "[FINETUNING BASE MODELS]\n",
      "[GENERATE METAFEATURE]\n",
      "Frequency statistics in metabase:\n",
      "\tPipeline                 0.535\n",
      "\tRandomForestClassifier   0.465\n",
      "[OFFLINE LEARNING]\n",
      "Kappa:    0.071\n",
      "GMean:    0.535\n",
      "Accuracy: 0.540\n",
      "[[32 24]\n",
      " [22 22]]\n",
      "              precision    recall  f1-score   support\n",
      "\n",
      "           0       0.59      0.57      0.58        56\n",
      "           1       0.48      0.50      0.49        44\n",
      "\n",
      "    accuracy                           0.54       100\n",
      "   macro avg       0.54      0.54      0.54       100\n",
      "weighted avg       0.54      0.54      0.54       100\n",
      "\n",
      "                   pre       rec       spe        f1       geo       iba       sup\n",
      "\n",
      "          0       0.59      0.57      0.50      0.58      0.53      0.29        56\n",
      "          1       0.48      0.50      0.57      0.49      0.53      0.28        44\n",
      "\n",
      "avg / total       0.54      0.54      0.53      0.54      0.53      0.29       100\n",
      "\n",
      "[ONLINE LEARNING]\n",
      "Kappa:  0.12811315988886085\n",
      "GMean:  0.5615642175212394\n",
      "Accuracy:  0.5653282345442957\n",
      "              precision    recall  f1-score   support\n",
      "\n",
      "           0       0.57      0.62      0.59       806\n",
      "           1       0.56      0.51      0.53       763\n",
      "\n",
      "    accuracy                           0.57      1569\n",
      "   macro avg       0.56      0.56      0.56      1569\n",
      "weighted avg       0.56      0.57      0.56      1569\n",
      "\n",
      "                   pre       rec       spe        f1       geo       iba       sup\n",
      "\n",
      "          0       0.57      0.62      0.51      0.59      0.56      0.32       806\n",
      "          1       0.56      0.51      0.62      0.53      0.56      0.31       763\n",
      "\n",
      "avg / total       0.56      0.57      0.56      0.56      0.56      0.32      1569\n",
      "\n",
      "\n"
     ]
    }
   ],
   "source": [
    "with open('../'+experiment.replace('_','-')+'.output') as fin:\n",
    "    print(fin.read())"
   ]
  },
  {
   "cell_type": "code",
   "execution_count": 13,
   "metadata": {
    "slideshow": {
     "slide_type": "-"
    }
   },
   "outputs": [],
   "source": [
    "metadf = load('../data/'+experiment+'/metadf.joblib')\n",
    "best = np.array(load('../data/'+experiment+'/best.joblib'))\n",
    "score_recommended = np.array(load('../data/'+experiment+'/score_reco.joblib'))\n",
    "score_default = np.array(load('../data/'+experiment+'/score_def.joblib'))"
   ]
  },
  {
   "cell_type": "code",
   "execution_count": 14,
   "metadata": {
    "slideshow": {
     "slide_type": "slide"
    }
   },
   "outputs": [
    {
     "data": {
      "image/png": "[encoded data removed]",
      "text/plain": [
       "<Figure size 432x288 with 1 Axes>"
      ]
     },
     "metadata": {
      "needs_background": "light"
     },
     "output_type": "display_data"
    }
   ],
   "source": [
    "plt.scatter(score_default, score_recommended, alpha=.25)\n",
    "plt.ylabel('Recommended score')\n",
    "plt.xlabel('Default score')\n",
    "plt.savefig(experiment+'_score.pdf', bbox_inches='tight')"
   ]
  },
  {
   "cell_type": "code",
   "execution_count": null,
   "metadata": {
    "slideshow": {
     "slide_type": "slide"
    }
   },
   "outputs": [],
   "source": [
    "window_score = 500\n",
    "N = 10\n",
    "n_feats = 5\n",
    "sorted_feats = np.argsort(t_importance)[::-1]\n",
    "fig, (ax1, ax2) = plt.subplots(2, figsize=(12, 4), sharex=True, gridspec_kw={'hspace': 0})\n",
    "ax1.plot(score_default[-window_score:])\n",
    "moving_avg = np.convolve(score_default[-(window_score+N-1):], np.ones((N,))/N, mode='valid')\n",
    "ax2.plot(moving_avg)\n",
    "ax1.set_title('Moving average filter')\n",
    "ax1.set_ylabel('score')\n",
    "ax2.set_ylabel('filtered score')\n",
    "plt.savefig(experiment+'_smovingavg.pdf', bbox_inches='tight')"
   ]
  },
  {
   "cell_type": "code",
   "execution_count": null,
   "metadata": {
    "scrolled": false,
    "slideshow": {
     "slide_type": "slide"
    }
   },
   "outputs": [],
   "source": [
    "fig, ax = plt.subplots(n_feats, figsize=(13,10), sharex=True, gridspec_kw={'hspace': 0})\n",
    "for idx,i in enumerate(sorted_feats[:n_feats]):\n",
    "    ax1 = ax[idx]\n",
    "    if idx == 0:\n",
    "        ax1.set_title(\"Score variation from default algorithm compared to metafeature\")\n",
    "    if idx == n_feats-1:\n",
    "        ax1.set_xlabel(\"Pseudo-time\")\n",
    "    ax1.xaxis.grid(linestyle='--', alpha=.75)\n",
    "    ax1.plot(moving_avg, color='C0')\n",
    "    ax1.set_ylabel(\"Score\", color='C0')\n",
    "    ax2 = ax1.twinx()\n",
    "    ax2.plot(metadf[-window_score:,i], color='C1')\n",
    "    ax2.set_ylabel(\"{}\".format(t_fname[i].replace('_','-')), color='C1')\n",
    "plt.savefig(experiment+'_scorexfeat.pdf', bbox_inches='tight')"
   ]
  },
  {
   "cell_type": "code",
   "execution_count": null,
   "metadata": {
    "slideshow": {
     "slide_type": "-"
    }
   },
   "outputs": [],
   "source": [
    "len(moving_avg)"
   ]
  },
  {
   "cell_type": "code",
   "execution_count": null,
   "metadata": {
    "slideshow": {
     "slide_type": "-"
    }
   },
   "outputs": [],
   "source": [
    "df = pd.DataFrame(metadf[-window_score:], columns=t_fname)\n",
    "df.rename(columns={x:x.replace('_','-') for x in t_fname}, inplace=True)\n",
    "df['score-default'] = moving_avg"
   ]
  },
  {
   "cell_type": "code",
   "execution_count": null,
   "metadata": {
    "slideshow": {
     "slide_type": "-"
    }
   },
   "outputs": [],
   "source": [
    "sel_cols = [x.replace('_','-') for x in list(t_fname[sorted_feats][:4].values)]+['score-default']"
   ]
  },
  {
   "cell_type": "code",
   "execution_count": null,
   "metadata": {
    "scrolled": false,
    "slideshow": {
     "slide_type": "slide"
    }
   },
   "outputs": [],
   "source": [
    "g = sns.pairplot(df.loc[-window_score:,sel_cols], markers=\"+\")\n",
    "plt.savefig(experiment+'_corr.pdf', bbox_inches='tight')"
   ]
  },
  {
   "cell_type": "code",
   "execution_count": null,
   "metadata": {
    "scrolled": false,
    "slideshow": {
     "slide_type": "slide"
    }
   },
   "outputs": [],
   "source": [
    "model = sm.OLS(df['score-default'], df.drop(columns=['score-default']))\n",
    "results = model.fit()\n",
    "print(results.summary())"
   ]
  },
  {
   "cell_type": "code",
   "execution_count": null,
   "metadata": {
    "scrolled": false,
    "slideshow": {
     "slide_type": "slide"
    }
   },
   "outputs": [],
   "source": [
    "plt.figure(figsize=(12,6))\n",
    "ax1 = plt.subplot(212)\n",
    "ax1.set_title('Residuals')\n",
    "ax1.axhline(0, linestyle='--', color='k')\n",
    "ax1.plot(results.resid, '^-')\n",
    "ax2 = plt.subplot(221)\n",
    "sm.graphics.tsa.plot_acf(results.resid, ax=ax2, lags=30)\n",
    "ax3 = plt.subplot(222)\n",
    "ax3.set_title('Distribution')\n",
    "sns.distplot(results.resid, rug=True, ax=ax3)\n",
    "plt.savefig(experiment+'_residual.pdf', bbox_inches='tight')"
   ]
  },
  {
   "cell_type": "code",
   "execution_count": null,
   "metadata": {
    "slideshow": {
     "slide_type": "slide"
    }
   },
   "outputs": [],
   "source": [
    "window_score = 100\n",
    "N = 10\n",
    "n_feats = 5\n",
    "sorted_feats = np.argsort(t_importance)[::-1]\n",
    "best_model = ['model-{}'.format(x) for x in best[:window_score]]\n",
    "fig, ax = plt.subplots(n_feats, figsize=(13,10), sharex=True,gridspec_kw={'hspace': 0.1})\n",
    "for idx,i in enumerate(sorted_feats[:n_feats]):\n",
    "    ax1 = ax[idx]\n",
    "    if idx == 0:\n",
    "        ax1.set_title(\"Score variation from default algorithm compared to metafeature\")\n",
    "    if idx == n_feats-1:\n",
    "        ax1.set_xlabel(\"Pseudo-time\")\n",
    "    ax1.xaxis.grid(linestyle='--', alpha=.75)\n",
    "    ax1.plot(best_model, color='C0')\n",
    "    ax1.set_ylabel(\"Score\", color='C0')\n",
    "    ax2 = ax1.twinx()\n",
    "    ax2.plot(metadf[-window_score:,i], color='C1')\n",
    "    ax2.set_ylabel(\"{}\".format(t_fname[i].replace('_','-')), color='C1')\n",
    "plt.savefig(experiment+'_featxmodel.pdf', bbox_inches='tight')"
   ]
  }
 ],
 "metadata": {
  "kernelspec": {
   "display_name": "Python 3",
   "language": "python",
   "name": "python3"
  },
  "language_info": {
   "codemirror_mode": {
    "name": "ipython",
    "version": 3
   },
   "file_extension": ".py",
   "mimetype": "text/x-python",
   "name": "python",
   "nbconvert_exporter": "python",
   "pygments_lexer": "ipython3",
   "version": "3.7.3"
  }
 },
 "nbformat": 4,
 "nbformat_minor": 2
}
