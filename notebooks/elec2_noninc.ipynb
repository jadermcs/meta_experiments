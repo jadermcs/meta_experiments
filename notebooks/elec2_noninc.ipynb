{
 "cells": [
  {
   "cell_type": "code",
   "execution_count": 1,
   "metadata": {},
   "outputs": [],
   "source": [
    "from joblib import load\n",
    "import numpy as np\n",
    "import matplotlib.pyplot as plt"
   ]
  },
  {
   "cell_type": "code",
   "execution_count": 2,
   "metadata": {},
   "outputs": [],
   "source": [
    "importance = load('../data/elec2_inc/importance.joblib')"
   ]
  },
  {
   "cell_type": "code",
   "execution_count": 3,
   "metadata": {},
   "outputs": [],
   "source": [
    "arange = 150\n",
    "difference = load('../data/elec2_inc/difference.joblib')[:arange]\n",
    "cum = np.cumsum(difference)[:arange]\n",
    "x = np.arange(arange)"
   ]
  },
  {
   "cell_type": "code",
   "execution_count": 4,
   "metadata": {},
   "outputs": [
    {
     "data": {
      "text/plain": [
       "<matplotlib.lines.Line2D at 0x7f1bbdb7c400>"
      ]
     },
     "execution_count": 4,
     "metadata": {},
     "output_type": "execute_result"
    },
    {
     "data": {
      "image/png": "[encoded data removed]",
      "text/plain": [
       "<Figure size 1296x432 with 1 Axes>"
      ]
     },
     "metadata": {
      "needs_background": "light"
     },
     "output_type": "display_data"
    }
   ],
   "source": [
    "plt.figure(figsize=(18, 6))\n",
    "plt.fill_between(x, cum, 0)\n",
    "plt.scatter(x, difference, s=10, c='black')\n",
    "plt.axhline(0)"
   ]
  },
  {
   "cell_type": "code",
   "execution_count": 5,
   "metadata": {},
   "outputs": [
    {
     "name": "stdout",
     "output_type": "stream",
     "text": [
      "[0. 0. 0. 0. 0. 0. 0. 0. 0. 0.]\n"
     ]
    }
   ],
   "source": [
    "print(cum[-10:])"
   ]
  },
  {
   "cell_type": "code",
   "execution_count": 7,
   "metadata": {},
   "outputs": [
    {
     "name": "stdout",
     "output_type": "stream",
     "text": [
      "[FINETUNING BASE MODELS]\n",
      "[GENERATE METAFEATURE]\n",
      "Frequency statistics in metabase:\n",
      "\tSVC                      0.530\n",
      "\tRandomForestClassifier   0.400\n",
      "\tGaussianNB               0.070\n",
      "[OFFLINE LEARNING]\n",
      "Kappa:    0.119\n",
      "GMean:    0.242\n",
      "Accuracy: 0.533\n",
      "[[105  54   0]\n",
      " [ 62  54   4]\n",
      " [  8  12   1]]\n",
      "              precision    recall  f1-score   support\n",
      "\n",
      "           0       0.60      0.66      0.63       159\n",
      "           1       0.45      0.45      0.45       120\n",
      "           2       0.20      0.05      0.08        21\n",
      "\n",
      "    accuracy                           0.53       300\n",
      "   macro avg       0.42      0.39      0.39       300\n",
      "weighted avg       0.51      0.53      0.52       300\n",
      "\n",
      "                   pre       rec       spe        f1       geo       iba       sup\n",
      "\n",
      "          0       0.60      0.66      0.50      0.63      0.58      0.34       159\n",
      "          1       0.45      0.45      0.63      0.45      0.53      0.28       120\n",
      "          2       0.20      0.05      0.99      0.08      0.22      0.04        21\n",
      "\n",
      "avg / total       0.51      0.53      0.59      0.52      0.53      0.29       300\n",
      "\n",
      "[ONLINE LEARNING]\n",
      "Kappa:  0.0\n",
      "GMean:  0.0\n",
      "Accuracy:  0.5044037134015711\n",
      "              precision    recall  f1-score   support\n",
      "\n",
      "           0       0.50      1.00      0.67      2119\n",
      "           1       0.00      0.00      0.00      1670\n",
      "           2       0.00      0.00      0.00       412\n",
      "\n",
      "    accuracy                           0.50      4201\n",
      "   macro avg       0.17      0.33      0.22      4201\n",
      "weighted avg       0.25      0.50      0.34      4201\n",
      "\n",
      "                   pre       rec       spe        f1       geo       iba       sup\n",
      "\n",
      "          0       0.50      1.00      0.00      0.67      0.00      0.00      2119\n",
      "          1       0.00      0.00      1.00      0.00      0.00      0.00      1670\n",
      "          2       0.00      0.00      1.00      0.00      0.00      0.00       412\n",
      "\n",
      "avg / total       0.25      0.50      0.50      0.34      0.00      0.00      4201\n",
      "\n",
      "\n"
     ]
    }
   ],
   "source": [
    "with open('../elec2_noninc.output') as fin:\n",
    "    print(fin.read())"
   ]
  },
  {
   "cell_type": "code",
   "execution_count": null,
   "metadata": {},
   "outputs": [],
   "source": []
  }
 ],
 "metadata": {
  "kernelspec": {
   "display_name": "Python 3",
   "language": "python",
   "name": "python3"
  },
  "language_info": {
   "codemirror_mode": {
    "name": "ipython",
    "version": 3
   },
   "file_extension": ".py",
   "mimetype": "text/x-python",
   "name": "python",
   "nbconvert_exporter": "python",
   "pygments_lexer": "ipython3",
   "version": "3.6.8"
  }
 },
 "nbformat": 4,
 "nbformat_minor": 2
}
