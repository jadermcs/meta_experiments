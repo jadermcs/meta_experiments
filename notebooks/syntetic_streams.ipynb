{
 "cells": [
  {
   "cell_type": "code",
   "execution_count": 1,
   "metadata": {},
   "outputs": [],
   "source": [
    "from skmultiflow.data import LEDGeneratorDrift, ConceptDriftStream,\\\n",
    "                             RandomRBFGeneratorDrift, AGRAWALGenerator, HyperplaneGenerator\n",
    "import pandas as pd"
   ]
  },
  {
   "cell_type": "markdown",
   "metadata": {},
   "source": [
    "# AGRAWAL"
   ]
  },
  {
   "cell_type": "code",
   "execution_count": 2,
   "metadata": {},
   "outputs": [],
   "source": [
    "gen = ConceptDriftStream(stream=AGRAWALGenerator(balance_classes=True, classification_function=0,\n",
    "                         perturbation=0.2, random_state=42),\n",
    "                         drift_stream=AGRAWALGenerator(balance_classes=False, classification_function=2,\n",
    "                         perturbation=0.7, random_state=42),\n",
    "                         random_state=42, position=1000)\n",
    "X,y = gen.next_sample(40000)\n",
    "df = pd.DataFrame(X)\n",
    "df['class'] = y"
   ]
  },
  {
   "cell_type": "code",
   "execution_count": 3,
   "metadata": {},
   "outputs": [],
   "source": [
    "df.to_csv('../data/agrawal/data.csv', index=False)\n",
    "df.to_csv('../data/agrawal_ninc/data.csv', index=False)"
   ]
  },
  {
   "cell_type": "markdown",
   "metadata": {},
   "source": [
    "# HYPERPLANE"
   ]
  },
  {
   "cell_type": "code",
   "execution_count": 4,
   "metadata": {},
   "outputs": [],
   "source": [
    "gen = ConceptDriftStream(stream=HyperplaneGenerator(random_state=42, n_features=5, n_drift_features=1,\n",
    "                                                    mag_change=0.1, noise_percentage=0.25, sigma_percentage=0.1),\n",
    "                         drift_stream=HyperplaneGenerator(random_state=42, n_features=5, n_drift_features=3,\n",
    "                                                    mag_change=0.7, noise_percentage=0.05, sigma_percentage=0.1),\n",
    "                         random_state=42, position=700)\n",
    "X,y = gen.next_sample(40000)\n",
    "df = pd.DataFrame(X)\n",
    "df['class'] = y"
   ]
  },
  {
   "cell_type": "code",
   "execution_count": 5,
   "metadata": {},
   "outputs": [],
   "source": [
    "df.to_csv('../data/hyper/data.csv', index=False)\n",
    "df.to_csv('../data/hyper_ninc/data.csv', index=False)"
   ]
  },
  {
   "cell_type": "markdown",
   "metadata": {},
   "source": [
    "# RBF"
   ]
  },
  {
   "cell_type": "code",
   "execution_count": 6,
   "metadata": {},
   "outputs": [],
   "source": [
    "gen = RandomRBFGeneratorDrift(model_random_state=42, sample_random_state=42, n_classes=2, n_features=5,\n",
    "                              change_speed=0.1,\n",
    "                              n_centroids=10, num_drift_centroids=5)\n",
    "X,y = gen.next_sample(40000)\n",
    "df = pd.DataFrame(X)\n",
    "df['class'] = y"
   ]
  },
  {
   "cell_type": "code",
   "execution_count": 7,
   "metadata": {},
   "outputs": [],
   "source": [
    "df.to_csv('../data/rbf/data.csv', index=False)\n",
    "df.to_csv('../data/rbf_ninc/data.csv', index=False)"
   ]
  },
  {
   "cell_type": "markdown",
   "metadata": {},
   "source": [
    "### Test distribution between classifiers"
   ]
  },
  {
   "cell_type": "code",
   "execution_count": 8,
   "metadata": {},
   "outputs": [],
   "source": [
    "from sklearn.model_selection import train_test_split, cross_val_score\n",
    "from sklearn.ensemble import RandomForestClassifier\n",
    "from sklearn.svm import SVC"
   ]
  },
  {
   "cell_type": "code",
   "execution_count": 9,
   "metadata": {},
   "outputs": [],
   "source": [
    "xtrain, xtest, ytrain, ytest = train_test_split(X,y)"
   ]
  },
  {
   "cell_type": "code",
   "execution_count": 10,
   "metadata": {},
   "outputs": [
    {
     "data": {
      "text/plain": [
       "SVC()"
      ]
     },
     "execution_count": 10,
     "metadata": {},
     "output_type": "execute_result"
    }
   ],
   "source": [
    "rf = RandomForestClassifier()\n",
    "svm = SVC()\n",
    "rf.fit(xtrain, ytrain)\n",
    "svm.fit(xtrain, ytrain)"
   ]
  },
  {
   "cell_type": "code",
   "execution_count": 11,
   "metadata": {},
   "outputs": [],
   "source": [
    "cvrf = cross_val_score(rf, xtest, ytest, cv=10, n_jobs=-1)\n",
    "cvsvm = cross_val_score(svm, xtest, ytest, cv=10, n_jobs=-1)"
   ]
  },
  {
   "cell_type": "code",
   "execution_count": 12,
   "metadata": {},
   "outputs": [
    {
     "data": {
      "image/png": "[encoded data removed]",
      "text/plain": [
       "<Figure size 432x288 with 1 Axes>"
      ]
     },
     "metadata": {
      "needs_background": "light"
     },
     "output_type": "display_data"
    }
   ],
   "source": [
    "import matplotlib.pyplot as plt\n",
    "plt.hist(cvrf, alpha=.5);\n",
    "plt.hist(cvsvm, alpha=.5);"
   ]
  },
  {
   "cell_type": "code",
   "execution_count": 13,
   "metadata": {},
   "outputs": [
    {
     "data": {
      "text/plain": [
       "array([0.875, 0.876, 0.897, 0.886, 0.885, 0.887, 0.892, 0.898, 0.893,\n",
       "       0.878])"
      ]
     },
     "execution_count": 13,
     "metadata": {},
     "output_type": "execute_result"
    }
   ],
   "source": [
    "cvrf"
   ]
  },
  {
   "cell_type": "code",
   "execution_count": 14,
   "metadata": {
    "scrolled": true
   },
   "outputs": [
    {
     "data": {
      "text/plain": [
       "array([0.867, 0.864, 0.886, 0.877, 0.876, 0.89 , 0.894, 0.885, 0.892,\n",
       "       0.865])"
      ]
     },
     "execution_count": 14,
     "metadata": {},
     "output_type": "execute_result"
    }
   ],
   "source": [
    "cvsvm"
   ]
  }
 ],
 "metadata": {
  "kernelspec": {
   "display_name": "Python 3",
   "language": "python",
   "name": "python3"
  },
  "language_info": {
   "codemirror_mode": {
    "name": "ipython",
    "version": 3
   },
   "file_extension": ".py",
   "mimetype": "text/x-python",
   "name": "python",
   "nbconvert_exporter": "python",
   "pygments_lexer": "ipython3",
   "version": "3.6.9"
  }
 },
 "nbformat": 4,
 "nbformat_minor": 4
}
